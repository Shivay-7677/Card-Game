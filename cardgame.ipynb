{
 "cells": [
  {
   "cell_type": "code",
   "execution_count": 203,
   "id": "9ab6b34b-b0ab-4cf0-be7c-b8b7dcb5d024",
   "metadata": {},
   "outputs": [],
   "source": [
    "#CARD CLASS\n",
    "#SUIT,RANK,VALUE\n",
    "import random\n",
    "suits = ('Hearts','Diamonds','Spades','Clubs')\n",
    "ranks = {'Two','Three','Four','Five','Six','Seven','Eight','Nine','Ten','Jack','Queen','King','Ace'}\n",
    "values = {'Two':2,'Three':3,'Four':4,'Five':5,'Six':6,'Seven':7,'Eight':8,\n",
    "          'Nine':9,'Ten':10,'Jack':11,'Queen':12,'King':13,'Ace':14}"
   ]
  },
  {
   "cell_type": "code",
   "execution_count": 205,
   "id": "dd6a4eb7-14f3-4798-9239-363b8ba91e63",
   "metadata": {},
   "outputs": [],
   "source": [
    "class Card:\n",
    "\n",
    "    def __init__(self,suit,rank):\n",
    "        self.suit = suit \n",
    "        self.rank = rank\n",
    "        self.value = values[rank]\n",
    "    def __str__(self):\n",
    "        return self.rank + \" of \" + self.suit\n",
    "    "
   ]
  },
  {
   "cell_type": "code",
   "execution_count": 207,
   "id": "6cbfcc44-0328-4bb2-acb5-eb890bd4e32e",
   "metadata": {},
   "outputs": [],
   "source": [
    "three_of_clubs = Card(\"Club\",'Three')"
   ]
  },
  {
   "cell_type": "code",
   "execution_count": 209,
   "id": "73235e86-df96-44f3-87d1-d2ce9156e9a0",
   "metadata": {},
   "outputs": [
    {
     "data": {
      "text/plain": [
       "'Three'"
      ]
     },
     "execution_count": 209,
     "metadata": {},
     "output_type": "execute_result"
    }
   ],
   "source": [
    "three_of_clubs.rank"
   ]
  },
  {
   "cell_type": "code",
   "execution_count": 211,
   "id": "e939525d-a2f8-46fa-b22b-96363de3e158",
   "metadata": {},
   "outputs": [],
   "source": [
    "two_hearts = Card(\"hearts\",\"Two\")\n"
   ]
  },
  {
   "cell_type": "code",
   "execution_count": 213,
   "id": "f563ac3f-4bba-4586-8619-5fcdb83fb199",
   "metadata": {},
   "outputs": [
    {
     "data": {
      "text/plain": [
       "<__main__.Card at 0x2396e30cb60>"
      ]
     },
     "execution_count": 213,
     "metadata": {},
     "output_type": "execute_result"
    }
   ],
   "source": [
    "two_hearts"
   ]
  },
  {
   "cell_type": "code",
   "execution_count": 215,
   "id": "46ec74e2-c26d-418e-a872-69c9ba5eac31",
   "metadata": {},
   "outputs": [
    {
     "name": "stdout",
     "output_type": "stream",
     "text": [
      "Two of hearts\n"
     ]
    }
   ],
   "source": [
    "print(two_hearts)"
   ]
  },
  {
   "cell_type": "code",
   "execution_count": 217,
   "id": "3a7a4c90-32ac-4655-a728-2f678461ab8b",
   "metadata": {},
   "outputs": [
    {
     "data": {
      "text/plain": [
       "'Two'"
      ]
     },
     "execution_count": 217,
     "metadata": {},
     "output_type": "execute_result"
    }
   ],
   "source": [
    "two_hearts.rank"
   ]
  },
  {
   "cell_type": "code",
   "execution_count": 219,
   "id": "0274cc8f-6b17-48e5-8969-fc29e0fd4806",
   "metadata": {},
   "outputs": [
    {
     "data": {
      "text/plain": [
       "'hearts'"
      ]
     },
     "execution_count": 219,
     "metadata": {},
     "output_type": "execute_result"
    }
   ],
   "source": [
    "two_hearts.suit"
   ]
  },
  {
   "cell_type": "code",
   "execution_count": 221,
   "id": "07ec2178-6322-41a3-bfdd-1c4cbb6cf592",
   "metadata": {},
   "outputs": [
    {
     "data": {
      "text/plain": [
       "False"
      ]
     },
     "execution_count": 221,
     "metadata": {},
     "output_type": "execute_result"
    }
   ],
   "source": [
    "two_hearts.value == three_of_clubs.value"
   ]
  },
  {
   "cell_type": "code",
   "execution_count": 223,
   "id": "4835ab41-187c-4d5c-b29b-ffc22e962d12",
   "metadata": {},
   "outputs": [
    {
     "data": {
      "text/plain": [
       "2"
      ]
     },
     "execution_count": 223,
     "metadata": {},
     "output_type": "execute_result"
    }
   ],
   "source": [
    "values[two_hearts.rank]"
   ]
  },
  {
   "cell_type": "code",
   "execution_count": 225,
   "id": "237a3302-9c6c-4e23-97ec-763b92563eb1",
   "metadata": {},
   "outputs": [],
   "source": [
    "class Deck:\n",
    "\n",
    "    def __init__(self):\n",
    "\n",
    "        self.all_cards = []\n",
    "        for suit in suits:\n",
    "            for rank in ranks:\n",
    "                #created the card object\n",
    "                created_card = Card(suit,rank)\n",
    "\n",
    "                self.all_cards.append(created_card)\n",
    "    def shuffle(self):\n",
    "         random.shuffle(self.all_cards)\n",
    "\n",
    "    def deal_one(self):\n",
    "        return self.all_cards.pop()"
   ]
  },
  {
   "cell_type": "code",
   "execution_count": 227,
   "id": "b0ed019b-6b8f-49be-9dfc-da4f4ea7363a",
   "metadata": {},
   "outputs": [],
   "source": [
    "new_deck = Deck()"
   ]
  },
  {
   "cell_type": "code",
   "execution_count": 229,
   "id": "598b1adf-4845-42a3-8d42-299081af5ce4",
   "metadata": {},
   "outputs": [],
   "source": [
    "new_deck.shuffle()"
   ]
  },
  {
   "cell_type": "code",
   "execution_count": 231,
   "id": "0a37b0da-4c66-4e47-b7c1-b0de91941efd",
   "metadata": {},
   "outputs": [],
   "source": [
    "mycard = new_deck.deal_one()"
   ]
  },
  {
   "cell_type": "code",
   "execution_count": 233,
   "id": "ba40517b-5925-43a1-ab52-85c77c8e4e60",
   "metadata": {},
   "outputs": [
    {
     "name": "stdout",
     "output_type": "stream",
     "text": [
      "Ten of Diamonds\n"
     ]
    }
   ],
   "source": [
    "print(mycard)"
   ]
  },
  {
   "cell_type": "code",
   "execution_count": 235,
   "id": "1a499be8-d425-481b-88a7-17b9e704679b",
   "metadata": {},
   "outputs": [
    {
     "data": {
      "text/plain": [
       "51"
      ]
     },
     "execution_count": 235,
     "metadata": {},
     "output_type": "execute_result"
    }
   ],
   "source": [
    "len(new_deck.all_cards)"
   ]
  },
  {
   "cell_type": "code",
   "execution_count": 237,
   "id": "279503af-2316-4c2d-b194-edbc4786b74b",
   "metadata": {},
   "outputs": [],
   "source": [
    " first_card = new_deck.all_cards[0]"
   ]
  },
  {
   "cell_type": "code",
   "execution_count": 239,
   "id": "572f8497-b442-4504-b209-4dfbb9ceca01",
   "metadata": {},
   "outputs": [
    {
     "name": "stdout",
     "output_type": "stream",
     "text": [
      "Eight of Clubs\n"
     ]
    }
   ],
   "source": [
    "print(first_card)"
   ]
  },
  {
   "cell_type": "code",
   "execution_count": 241,
   "id": "3135449b-2674-47e9-ac68-c376bb9a30c9",
   "metadata": {},
   "outputs": [],
   "source": [
    " bottom_card = new_deck.all_cards[-1]\n"
   ]
  },
  {
   "cell_type": "code",
   "execution_count": 243,
   "id": "257b35cb-8280-44f3-addd-944bfb2cf034",
   "metadata": {},
   "outputs": [
    {
     "name": "stdout",
     "output_type": "stream",
     "text": [
      "Seven of Spades\n"
     ]
    }
   ],
   "source": [
    "print(bottom_card)"
   ]
  },
  {
   "cell_type": "code",
   "execution_count": 245,
   "id": "2d95095e-854d-4e93-9f52-6faa30edf725",
   "metadata": {},
   "outputs": [],
   "source": [
    "new_deck.shuffle()"
   ]
  },
  {
   "cell_type": "code",
   "execution_count": 247,
   "id": "d27a9d7d-d501-4853-8d7e-78aa359c3dc1",
   "metadata": {},
   "outputs": [
    {
     "name": "stdout",
     "output_type": "stream",
     "text": [
      "Ace of Diamonds\n"
     ]
    }
   ],
   "source": [
    "print( new_deck.all_cards[-1])"
   ]
  },
  {
   "cell_type": "code",
   "execution_count": 249,
   "id": "8b580eae-5623-4c3a-b7a2-9cce2d89ea1f",
   "metadata": {},
   "outputs": [],
   "source": [
    " class Player:\n",
    "     def __init__(self,name):\n",
    "\n",
    "         self.name = name\n",
    "         self.all_cards = []\n",
    "     def remove_one(self):\n",
    "         return self.all_cards.pop(0)\n",
    "     def add_cards(self,new_cards):\n",
    "         if type(new_cards) == type([]):\n",
    "             #List of multiple Card object\n",
    "             self.all_cards.extend(new_cards)     \n",
    "         else:\n",
    "             # For a single Card object\n",
    "             self.all_cards.append(new_cards)\n",
    "    \n",
    "        \n",
    "     def __str__(self):\n",
    "         return f'Player {self.name} has {len(self.all_cards)} cards.'"
   ]
  },
  {
   "cell_type": "code",
   "execution_count": 251,
   "id": "c1406ce7-9274-4f31-925f-03ebcce5bacb",
   "metadata": {},
   "outputs": [],
   "source": [
    "new_player = Player(\"shiva\")"
   ]
  },
  {
   "cell_type": "code",
   "execution_count": 253,
   "id": "80740731-d412-41cd-94f7-bc436414c1a8",
   "metadata": {},
   "outputs": [
    {
     "name": "stdout",
     "output_type": "stream",
     "text": [
      "Player shiva has 0 cards.\n"
     ]
    }
   ],
   "source": [
    "print(new_player)"
   ]
  },
  {
   "cell_type": "code",
   "execution_count": 255,
   "id": "a9a5660a-8d09-4753-ba3b-01307eb82e14",
   "metadata": {},
   "outputs": [],
   "source": [
    "\n",
    "new_player.add_cards(mycard)\n"
   ]
  },
  {
   "cell_type": "code",
   "execution_count": 257,
   "id": "bcaff84e-4698-4f8f-b76b-2a9e375b164b",
   "metadata": {},
   "outputs": [
    {
     "name": "stdout",
     "output_type": "stream",
     "text": [
      "Player shiva has 1 cards.\n"
     ]
    }
   ],
   "source": [
    "print(new_player)"
   ]
  },
  {
   "cell_type": "code",
   "execution_count": 259,
   "id": "4fb7d28e-a0a3-42ec-a1f6-56c3841b8ab6",
   "metadata": {},
   "outputs": [
    {
     "name": "stdout",
     "output_type": "stream",
     "text": [
      "Ten of Diamonds\n"
     ]
    }
   ],
   "source": [
    "print(new_player.all_cards[0])"
   ]
  },
  {
   "cell_type": "code",
   "execution_count": 261,
   "id": "fce7f9a2-fe71-4c3b-a304-2e01e3fda4b3",
   "metadata": {},
   "outputs": [],
   "source": [
    "new_player.add_cards([mycard,mycard,mycard])"
   ]
  },
  {
   "cell_type": "code",
   "execution_count": 263,
   "id": "146d43c5-f36e-49b0-9834-ec624021169b",
   "metadata": {},
   "outputs": [
    {
     "name": "stdout",
     "output_type": "stream",
     "text": [
      "Player shiva has 4 cards.\n"
     ]
    }
   ],
   "source": [
    "print(new_player)"
   ]
  },
  {
   "cell_type": "code",
   "execution_count": 265,
   "id": "ed3ad570-ee05-4849-998a-19d20f5443c2",
   "metadata": {},
   "outputs": [
    {
     "data": {
      "text/plain": [
       "<__main__.Card at 0x2396e306420>"
      ]
     },
     "execution_count": 265,
     "metadata": {},
     "output_type": "execute_result"
    }
   ],
   "source": [
    "new_player.remove_one()\n"
   ]
  },
  {
   "cell_type": "code",
   "execution_count": 267,
   "id": "5d04c6d6-297a-4321-bf5d-03673525fcb3",
   "metadata": {},
   "outputs": [
    {
     "name": "stdout",
     "output_type": "stream",
     "text": [
      "Player shiva has 3 cards.\n"
     ]
    }
   ],
   "source": [
    "print(new_player)"
   ]
  },
  {
   "cell_type": "code",
   "execution_count": 269,
   "id": "e8594721-7797-45b7-8d7b-eebfe6e800ad",
   "metadata": {},
   "outputs": [],
   "source": [
    "# GAME SETUP\n",
    "player_one = Player(\"One\")\n",
    "player_two = Player(\"Two\")\n",
    "\n",
    "new_deck = Deck()\n",
    "new_deck.shuffle()\n",
    "\n",
    "for x in range(26):\n",
    "    player_one.add_cards(new_deck.deal_one())\n",
    "    player_two.add_cards(new_deck.deal_one())"
   ]
  },
  {
   "cell_type": "code",
   "execution_count": 271,
   "id": "ae5f0505-52b9-4503-9dd9-7b273a178d12",
   "metadata": {},
   "outputs": [],
   "source": [
    "game_on = True"
   ]
  },
  {
   "cell_type": "code",
   "execution_count": 273,
   "id": "f42efb10-8ce4-4f8c-9e88-ee7ad5fc9e09",
   "metadata": {},
   "outputs": [
    {
     "name": "stdout",
     "output_type": "stream",
     "text": [
      "Round 1\n",
      "Round 2\n",
      "Round 3\n",
      "Round 4\n",
      "Round 5\n",
      "Round 6\n",
      "Round 7\n",
      "Round 8\n",
      "Round 9\n",
      "Round 10\n",
      "Round 11\n",
      "Round 12\n",
      "Round 13\n",
      "Round 14\n",
      "Round 15\n",
      "Round 16\n",
      "Round 17\n",
      "Round 18\n",
      "Round 19\n",
      "Round 20\n",
      "Round 21\n",
      "Round 22\n",
      "Round 23\n",
      "Round 24\n",
      "Round 25\n",
      "Round 26\n",
      "Round 27\n",
      "Player One, out of cards! Player Two Wins!\n"
     ]
    },
    {
     "ename": "NameError",
     "evalue": "name 'player' is not defined",
     "output_type": "error",
     "traceback": [
      "\u001b[1;31m---------------------------------------------------------------------------\u001b[0m",
      "\u001b[1;31mNameError\u001b[0m                                 Traceback (most recent call last)",
      "Cell \u001b[1;32mIn[273], line 30\u001b[0m\n\u001b[0;32m     27\u001b[0m at_war \u001b[38;5;241m=\u001b[39m \u001b[38;5;28;01mTrue\u001b[39;00m \n\u001b[0;32m     28\u001b[0m \u001b[38;5;28;01mwhile\u001b[39;00m at_war:\n\u001b[1;32m---> 30\u001b[0m        \u001b[38;5;28;01mif\u001b[39;00m player\u001b[38;5;241m-\u001b[39mone_cards[\u001b[38;5;241m-\u001b[39m\u001b[38;5;241m1\u001b[39m]\u001b[38;5;241m.\u001b[39mvalue \u001b[38;5;241m>\u001b[39m player_two_cards[\u001b[38;5;241m-\u001b[39m\u001b[38;5;241m1\u001b[39m]\u001b[38;5;241m.\u001b[39mvalue:\n\u001b[0;32m     32\u001b[0m            player_one\u001b[38;5;241m.\u001b[39madd_cards(player_one_cards)\n\u001b[0;32m     33\u001b[0m            player_one\u001b[38;5;241m.\u001b[39madd_cards(player_two_cards)\n",
      "\u001b[1;31mNameError\u001b[0m: name 'player' is not defined"
     ]
    }
   ],
   "source": [
    "#WHILE GAME_ON\n",
    "round_num = 0\n",
    "\n",
    "while game_on:\n",
    "\n",
    "    round_num += 1\n",
    "    print(f\"Round {round_num}\")\n",
    "\n",
    "    if len(player_one.all_cards) == 0:\n",
    "        print('Player One, out of cards! Player Two Wins!')\n",
    "        game_on = False\n",
    "        break \n",
    "    \n",
    "    if len(player_two.all_cards) == 0:\n",
    "        print('Player Two, out of cards! Player One Wins!')\n",
    "        game_on = False\n",
    "        break \n",
    "       \n",
    "   #START A NEW ROUND\n",
    "    player_one_cards = []\n",
    "    player_one_cards.append(player_one.remove_one())\n",
    "\n",
    "    player_two_cards = []\n",
    "    player_two_cards.append(player_two.remove_one())\n",
    "\n",
    " #WHILE  AT WAR\n",
    "at_war = True \n",
    "while at_war:\n",
    "\n",
    "       if player-one_cards[-1].value > player_two_cards[-1].value:\n",
    "\n",
    "           player_one.add_cards(player_one_cards)\n",
    "           player_one.add_cards(player_two_cards)\n",
    "\n",
    "           at_war = False\n",
    "           \n",
    "       if player-one_cards[-1].value < player_two_cards[-1].value:\n",
    "\n",
    "           player_two.add_cards(player_one_cards)\n",
    "           player_two.add_cards(player_two_cards)\n",
    "\n",
    "           at_war = False   \n",
    "       else:\n",
    "           print('WAR!')\n",
    "\n",
    "           if len(player_one.all_cards) < 5:\n",
    "               print(\"Player one unable to play war! Game over at war\")\n",
    "               print(\"Player Two Wins\")\n",
    "               game_on = False \n",
    "               break\n",
    "               \n",
    "           elif len(player_two.all_cards) < 5:\n",
    "               print(\"Player Two unable to play war! Game over at war\")\n",
    "               print(\"Player One Wins\")\n",
    "               game_on = False \n",
    "               break\n",
    "\n",
    "           else:\n",
    "               for num in range(5):\n",
    "                   player_one_cards.append(player_one.remove_one())\n",
    "                   player_two_cards.append(player_two.remove_one())\n",
    "               \n",
    "               "
   ]
  },
  {
   "cell_type": "code",
   "execution_count": null,
   "id": "508facde-c505-4338-a419-37277b8485d5",
   "metadata": {},
   "outputs": [],
   "source": []
  }
 ],
 "metadata": {
  "kernelspec": {
   "display_name": "Python [conda env:base] *",
   "language": "python",
   "name": "conda-base-py"
  },
  "language_info": {
   "codemirror_mode": {
    "name": "ipython",
    "version": 3
   },
   "file_extension": ".py",
   "mimetype": "text/x-python",
   "name": "python",
   "nbconvert_exporter": "python",
   "pygments_lexer": "ipython3",
   "version": "3.12.7"
  }
 },
 "nbformat": 4,
 "nbformat_minor": 5
}
